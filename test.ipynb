{
 "cells": [
  {
   "cell_type": "code",
   "execution_count": 1,
   "id": "663857cd-95f9-43a8-8cad-b51a1e56f799",
   "metadata": {},
   "outputs": [],
   "source": [
    "from config import Config\n",
    "from selenium import webdriver\n",
    "from selenium.webdriver.common.by import By\n",
    "# import Select\n",
    "from selenium.webdriver.support.ui import Select\n",
    "import logging\n",
    "import urllib\n",
    "from time import sleep\n",
    "\n"
   ]
  },
  {
   "cell_type": "code",
   "execution_count": 2,
   "id": "1b8197cd-0a77-4dea-a5c3-199c5defec4b",
   "metadata": {},
   "outputs": [],
   "source": [
    "logging.basicConfig(level=logging.INFO)\n",
    "\n",
    "options = webdriver.ChromeOptions()\n",
    "options.add_argument(f'user-data-dir=/Users/suchattangjarukij/Library/Application Support/Google/Chrome/Profile 1')\n",
    "options.add_argument('--no-sandbox')\n",
    "\n",
    "driver = webdriver.Chrome(options=options)"
   ]
  },
  {
   "cell_type": "code",
   "execution_count": 3,
   "metadata": {},
   "outputs": [],
   "source": [
    "from selenium.webdriver.support.ui import WebDriverWait\n",
    "from selenium.webdriver.support import expected_conditions as EC\n",
    "\n",
    "def handle_field(label, field_group):\n",
    "    ret = None\n",
    "    match label:\n",
    "        case \"Email address\":\n",
    "            ret = field_group.find_element(By.CSS_SELECTOR, \"select\").get_attribute(\"value\")\n",
    "        case \"Phone country code\":\n",
    "            elem = field_group.find_element(By.CSS_SELECTOR, \"select\")\n",
    "            select = Select(elem)\n",
    "            select.select_by_value(\"Australia (+61)\")\n",
    "            ret = elem.get_attribute(\"value\")\n",
    "        case \"Mobile phone number\":\n",
    "            elem = field_group.find_element(By.CSS_SELECTOR, \"input\")\n",
    "            elem.clear()\n",
    "            elem.send_keys(\"0420797445\")\n",
    "            ret = elem.get_attribute(\"value\")\n",
    "        case _:\n",
    "            try:\n",
    "                elem = field_group.find_element(By.CSS_SELECTOR, \"input\")\n",
    "                elem.clear()\n",
    "                elem.send_keys(\"1\")\n",
    "                ret = elem.get_attribute(\"value\")\n",
    "            except:\n",
    "                pass\n",
    "\n",
    "            try:\n",
    "                elem = field_group.find_element(By.CSS_SELECTOR, \"select\")\n",
    "                select = Select(elem)\n",
    "                select.select_by_index(1)\n",
    "                ret = elem.get_attribute(\"value\")\n",
    "            except:\n",
    "                pass\n",
    "\n",
    "    return ret\n",
    "\n",
    "def fillin_modal(modal):\n",
    "    try:\n",
    "        fields = {}\n",
    "        while True:\n",
    "            mobile_fields = modal.find_elements(By.CLASS_NAME, \"jobs-easy-apply-form-section__grouping\")\n",
    "\n",
    "            for field_group in mobile_fields:\n",
    "                label = field_group.find_element(By.CSS_SELECTOR, \"label\")\n",
    "                label_text = label.text.split(\"\\n\")[0].strip()\n",
    "                fields[label_text] = {\"value\": handle_field(label_text, field_group)}\n",
    "\n",
    "            try:\n",
    "                next_button = WebDriverWait(modal, 1).until(EC.presence_of_element_located((By.CSS_SELECTOR, \"button[aria-label='Continue to next step']\")))\n",
    "                next_button.click()\n",
    "            except:\n",
    "                close_button = modal.find_element(By.CSS_SELECTOR, \"button[aria-label='Dismiss']\")\n",
    "                close_button.click()\n",
    "                discard_button = modal.find_element(By.XPATH, \"//span[text()='Discard']\")\n",
    "                discard_button.click()\n",
    "                return fields\n",
    "\n",
    "        return fields\n",
    "    except Exception as e:\n",
    "        logging.warning(e)\n",
    "        pass\n"
   ]
  },
  {
   "cell_type": "code",
   "execution_count": 13,
   "metadata": {},
   "outputs": [],
   "source": [
    "params = {\n",
    "    'keywords': 'data analyst',\n",
    "    \"location\": \"Melbourne, Victoria, Australia\",\n",
    "    \"f_AL\": \"true\",\n",
    "    \"distance\":\"10\"\n",
    "    }\n",
    "    \n",
    "driver.get(\"https://www.linkedin.com/jobs/search/?\"+urllib.parse.urlencode(params))\n",
    "driver.implicitly_wait(2)"
   ]
  },
  {
   "cell_type": "code",
   "execution_count": 17,
   "metadata": {},
   "outputs": [],
   "source": [
    "# find container\n",
    "job_card_container = driver.find_element(By.CSS_SELECTOR, \"ul.scaffold-layout__list-container\")\n",
    "# find clickable title\n",
    "job_cards = job_card_container.find_elements(By.CLASS_NAME, \"artdeco-entity-lockup__title\")\n",
    "\n"
   ]
  },
  {
   "cell_type": "code",
   "execution_count": 18,
   "metadata": {},
   "outputs": [
    {
     "name": "stderr",
     "output_type": "stream",
     "text": [
      "INFO:root:1:SQL Data Analyst\n"
     ]
    },
    {
     "name": "stdout",
     "output_type": "stream",
     "text": [
      "Email address\n",
      "Phone country code\n",
      "Mobile phone number\n",
      "found next button\n",
      "found next button\n",
      "How many years of work experience do you have with SQL?\n",
      "Are you an australian citizen/PR\n",
      "found next button\n",
      "Yes\n",
      "No next button\n"
     ]
    },
    {
     "name": "stderr",
     "output_type": "stream",
     "text": [
      "INFO:root:2:Master Data Analyst\n"
     ]
    },
    {
     "name": "stdout",
     "output_type": "stream",
     "text": [
      "Email address\n",
      "Phone country code\n",
      "Mobile phone number\n",
      "found next button\n",
      "found next button\n",
      "How many years of work experience do you have with Oracle Database?\n",
      "How many years of work experience do you have with SAP ERP?\n",
      "How many years of work experience do you have with Negotiation?\n",
      "Yes\n",
      "No next button\n"
     ]
    },
    {
     "name": "stderr",
     "output_type": "stream",
     "text": [
      "INFO:root:3:Environmental Data Analyst\n"
     ]
    },
    {
     "name": "stdout",
     "output_type": "stream",
     "text": [
      "Email address\n",
      "Phone country code\n",
      "Mobile phone number\n",
      "found next button\n",
      "found next button\n",
      "Yes\n",
      "How many years of work experience do you have with PostgreSQL?\n",
      "How many years of work experience do you have with Python (Programming Language)?\n",
      "No next button\n"
     ]
    },
    {
     "name": "stderr",
     "output_type": "stream",
     "text": [
      "INFO:root:4:Senior Data Analyst\n"
     ]
    },
    {
     "name": "stdout",
     "output_type": "stream",
     "text": [
      "Email address\n",
      "Phone country code\n",
      "Mobile phone number\n",
      "found next button\n",
      "found next button\n",
      "Yes\n",
      "No next button\n"
     ]
    },
    {
     "name": "stderr",
     "output_type": "stream",
     "text": [
      "INFO:root:5:Senior Business Analyst - Data Analytics\n"
     ]
    },
    {
     "name": "stdout",
     "output_type": "stream",
     "text": [
      "Email address\n",
      "Phone country code\n",
      "Mobile phone number\n",
      "found next button\n",
      "found next button\n",
      "Are you a Australian citizen/PR ?\n",
      "How many years of experience do you have as a Data Business Analyst\n",
      "No next button\n"
     ]
    },
    {
     "data": {
      "text/plain": [
       "[{'index': 0,\n",
       "  'title': 'SQL Data Analyst',\n",
       "  'url': 'https://www.linkedin.com/jobs/search/?currentJobId=3774147184&distance=10&f_AL=true&keywords=data%20analyst&location=Melbourne%2C%20Victoria%2C%20Australia',\n",
       "  'Email address': {'value': 'suchat.tangjarukij@proton.me'},\n",
       "  'Phone country code': {'value': 'Australia (+61)'},\n",
       "  'Mobile phone number': {'value': '0420797445'},\n",
       "  'How many years of work experience do you have with SQL?': {'value': '1'},\n",
       "  'Are you an australian citizen/PR': {'value': 'Yes'},\n",
       "  'Yes': {'value': None}},\n",
       " {'index': 1,\n",
       "  'title': 'Master Data Analyst',\n",
       "  'url': 'https://www.linkedin.com/jobs/search/?currentJobId=3777875903&distance=10&f_AL=true&keywords=data%20analyst&location=Melbourne%2C%20Victoria%2C%20Australia',\n",
       "  'Email address': {'value': 'suchat.tangjarukij@proton.me'},\n",
       "  'Phone country code': {'value': 'Australia (+61)'},\n",
       "  'Mobile phone number': {'value': '0420797445'},\n",
       "  'How many years of work experience do you have with Oracle Database?': {'value': '1'},\n",
       "  'How many years of work experience do you have with SAP ERP?': {'value': '1'},\n",
       "  'How many years of work experience do you have with Negotiation?': {'value': '1'},\n",
       "  'Yes': {'value': None}},\n",
       " {'index': 2,\n",
       "  'title': 'Environmental Data Analyst',\n",
       "  'url': 'https://www.linkedin.com/jobs/search/?currentJobId=3770108755&distance=10&f_AL=true&keywords=data%20analyst&location=Melbourne%2C%20Victoria%2C%20Australia',\n",
       "  'Email address': {'value': 'suchat.tangjarukij@proton.me'},\n",
       "  'Phone country code': {'value': 'Australia (+61)'},\n",
       "  'Mobile phone number': {'value': '0420797445'},\n",
       "  'Yes': {'value': None},\n",
       "  'How many years of work experience do you have with PostgreSQL?': {'value': '1'},\n",
       "  'How many years of work experience do you have with Python (Programming Language)?': {'value': '1'}},\n",
       " {'index': 3,\n",
       "  'title': 'Senior Data Analyst',\n",
       "  'url': 'https://www.linkedin.com/jobs/search/?currentJobId=3778818444&distance=10&f_AL=true&keywords=data%20analyst&location=Melbourne%2C%20Victoria%2C%20Australia',\n",
       "  'Email address': {'value': 'suchat.tangjarukij@proton.me'},\n",
       "  'Phone country code': {'value': 'Australia (+61)'},\n",
       "  'Mobile phone number': {'value': '0420797445'},\n",
       "  'Yes': {'value': None}},\n",
       " {'index': 4,\n",
       "  'title': 'Senior Business Analyst - Data Analytics',\n",
       "  'url': 'https://www.linkedin.com/jobs/search/?currentJobId=3765190141&distance=10&f_AL=true&keywords=data%20analyst&location=Melbourne%2C%20Victoria%2C%20Australia',\n",
       "  'Email address': {'value': 'suchat.tangjarukij@proton.me'},\n",
       "  'Phone country code': {'value': 'Australia (+61)'},\n",
       "  'Mobile phone number': {'value': '0420797445'},\n",
       "  'Are you a Australian citizen/PR ?': {'value': 'Yes'},\n",
       "  'How many years of experience do you have as a Data Business Analyst': {'value': '1'}}]"
      ]
     },
     "execution_count": 18,
     "metadata": {},
     "output_type": "execute_result"
    }
   ],
   "source": [
    "limit = 5\n",
    "iteration = 0\n",
    "results = []\n",
    "while job_cards:\n",
    "    result = {\"index\":iteration}\n",
    "\n",
    "    iteration+=1\n",
    "    if iteration > limit:\n",
    "        break\n",
    "\n",
    "    try:\n",
    "        job_cards = job_card_container.find_elements(By.CLASS_NAME, \"artdeco-entity-lockup__title\")\n",
    "        job_card = job_cards[iteration]\n",
    "\n",
    "\n",
    "        # scroll to the element\n",
    "        driver.execute_script(\"arguments[0].scrollIntoView();\", job_card)\n",
    "        driver.implicitly_wait(2)\n",
    "\n",
    "        \n",
    "        \n",
    "\n",
    "        # switch to the element\n",
    "        job_card.click()\n",
    "        driver.implicitly_wait(5)\n",
    "        sleep(5)\n",
    "        logging.info(f\"{iteration}:{job_card.text}\")\n",
    "\n",
    "\n",
    "        result = {\n",
    "            **result, \n",
    "            \"title\": job_card.text, \n",
    "            \"url\": driver.current_url\n",
    "            }\n",
    "\n",
    "        \n",
    "\n",
    "        #click easy apply\n",
    "        for i in range(10):\n",
    "            try:\n",
    "                driver.implicitly_wait(1)\n",
    "                easy_apply_button = driver.find_element(By.CLASS_NAME, \"jobs-apply-button\")\n",
    "                easy_apply_button.click()\n",
    "                \n",
    "            except:\n",
    "                logging.info(\"No easy apply button\")\n",
    "                continue\n",
    "\n",
    "            finally:\n",
    "                break\n",
    "            \n",
    "\n",
    "\n",
    "        # get the modal\n",
    "        for i in range(10):\n",
    "            try:\n",
    "                modal = driver.find_element(By.CLASS_NAME, \"jobs-easy-apply-modal\")\n",
    "                driver.implicitly_wait(1)\n",
    "\n",
    "            except:\n",
    "                logging.info(\"No modal\")\n",
    "                continue\n",
    "\n",
    "            finally:\n",
    "                break\n",
    "       \n",
    "        \n",
    "\n",
    "        # fill in the modal\n",
    "        try:\n",
    "            fields = fillin_modal(modal)\n",
    "            result = {**result, **fields}\n",
    "        except:\n",
    "            pass\n",
    "\n",
    "        \n",
    "    except Exception as e:\n",
    "        logging.info(\"{}\".format(str(e)))\n",
    "        continue\n",
    "\n",
    "    finally:\n",
    "        results.append(result)\n",
    "        driver.implicitly_wait(2)\n",
    "    \n",
    "   \n",
    "\n",
    "  \n",
    "\n",
    "results"
   ]
  },
  {
   "cell_type": "code",
   "execution_count": 127,
   "metadata": {},
   "outputs": [],
   "source": [
    "driver.quit()"
   ]
  },
  {
   "cell_type": "code",
   "execution_count": 25,
   "metadata": {},
   "outputs": [
    {
     "data": {
      "text/plain": [
       "[{'index': 0,\n",
       "  'title': 'Master Data Analyst',\n",
       "  'url': 'https://www.linkedin.com/jobs/search/?currentJobId=3777875903&distance=10&f_AL=true&keywords=data%20analyst&location=Melbourne%2C%20Victoria%2C%20Australia'},\n",
       " {'index': 1,\n",
       "  'title': 'Senior Analytics Consultant - Azure, AWS - Snowflake - Databricks',\n",
       "  'url': 'https://www.linkedin.com/jobs/search/?currentJobId=3774140560&distance=10&f_AL=true&keywords=data%20analyst&location=Melbourne%2C%20Victoria%2C%20Australia'},\n",
       " {'index': 2},\n",
       " {'index': 3},\n",
       " {'index': 4}]"
      ]
     },
     "execution_count": 25,
     "metadata": {},
     "output_type": "execute_result"
    }
   ],
   "source": [
    "results"
   ]
  },
  {
   "cell_type": "code",
   "execution_count": null,
   "metadata": {},
   "outputs": [],
   "source": []
  }
 ],
 "metadata": {
  "kernelspec": {
   "display_name": "Python 3 (ipykernel)",
   "language": "python",
   "name": "python3"
  },
  "language_info": {
   "codemirror_mode": {
    "name": "ipython",
    "version": 3
   },
   "file_extension": ".py",
   "mimetype": "text/x-python",
   "name": "python",
   "nbconvert_exporter": "python",
   "pygments_lexer": "ipython3",
   "version": "3.12.0"
  }
 },
 "nbformat": 4,
 "nbformat_minor": 5
}
